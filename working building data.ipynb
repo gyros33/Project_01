{
 "cells": [
  {
   "cell_type": "code",
   "execution_count": 1,
   "metadata": {},
   "outputs": [],
   "source": [
    "# Dependencies\n",
    "import numpy as np\n",
    "import pandas as pd\n",
    "import matplotlib.pyplot as plt\n",
    "import requests\n",
    "building_datafile = \"building_data.csv\"\n",
    "\n",
    "from config import api_key as api_key\n"
   ]
  },
  {
   "cell_type": "code",
   "execution_count": 2,
   "metadata": {},
   "outputs": [
    {
     "name": "stdout",
     "output_type": "stream",
     "text": [
      "vdy01vPWY4wrKbsDzmCqMk3a7OSYKVTdIHkfrTVE\n"
     ]
    }
   ],
   "source": [
    "\n",
    "Alabama = \"AL\"\n",
    "Alaska = \"AK\"\n",
    "Arizona = \"AZ\"\n",
    "Arkansas = \"AR\"\n",
    "California = \"CA\"\n",
    "Colorado = \"CO\"\n",
    "Connecticut = \"CT\"\n",
    "Delaware = \"DE\"\n",
    "District of Columbia = \"DC\"\n",
    "Florida = \"FL\"\n",
    "Georgia = \"GA\"\n",
    "Hawaii = \"HI\"\n",
    "Idaho = \"ID\"\n",
    "Illinois = \"IL\"\n",
    "Indiana = \"IN\"\n",
    "Iowa = \"IA\"\n",
    "Kansas = \"KS\"\n",
    "Kentucky = \"KY\"\n",
    "Louisiana = \"LA\n",
    "Maine = \"ME\"\n",
    "Montana = \"MT\"\n",
    "Nebraska = \"NE\"\n",
    "Nevada = \"NV\"\n",
    "New Hampshire = \"NH\"\n",
    "New Jersey = \"NJ\"\n",
    "New Mexico = \"NM\"\n",
    "New York = \"NY\"\n",
    "North Carolina = \"NC\"\n",
    "North Dakota = \"ND\"\n",
    "Ohio = \"OH\"\n",
    "Oklahoma = \"OK\"\n",
    "Oregon = \"OR\"\n",
    "Maryland = \"MD\"\n",
    "Massachusetts = \"MA\"\n",
    "Michigan = \"MI\"\n",
    "Minnesota = \"MN\"\n",
    "Mississippi = \"MS\"\n",
    "Missouri = \"MO\"\n",
    "Pennsylvania = \"PA\"\n",
    "Rhode Island = \"RI\"\n",
    "South Carolina = \"SC\"\n",
    "South Dakota = \"SD\"\n",
    "Tennessee = \"TN\"\n",
    "Texas = \"TX\"\n",
    "Utah = \"UT\"\n",
    "Vermont = \"VT\"\n",
    "Virginia = \"VA\"\n",
    "Washington = \"WA\"\n",
    "West Virginia = \"WV\"\n",
    "Wisconsin = \"WI\"\n",
    "Wyoming = \"WY\"\n"
   ]
  },
  {
   "cell_type": "code",
   "execution_count": 3,
   "metadata": {},
   "outputs": [
    {
     "ename": "SyntaxError",
     "evalue": "invalid syntax (<ipython-input-3-63f19703834e>, line 1)",
     "output_type": "error",
     "traceback": [
      "\u001b[0;36m  File \u001b[0;32m\"<ipython-input-3-63f19703834e>\"\u001b[0;36m, line \u001b[0;32m1\u001b[0m\n\u001b[0;31m    curl -X GET \"https://developer.nrel.gov/api/cleap/v1/energy_expenditures_and_ghg_by_sector?city=Austin&state_abbr=Tx&zip=78704&api_key=api_key\" -H \"accept: application/json\"\u001b[0m\n\u001b[0m              ^\u001b[0m\n\u001b[0;31mSyntaxError\u001b[0m\u001b[0;31m:\u001b[0m invalid syntax\n"
     ]
    }
   ],
   "source": [
    "curl -X GET \"https://developer.nrel.gov/api/cleap/v1/energy_expenditures_and_ghg_by_sector?city=Austin&state_abbr=Tx&zip=78704&api_key=api_key\" -H \"accept: application/json\"\n",
    "\n",
    "\n",
    "\n"
   ]
  },
  {
   "cell_type": "code",
   "execution_count": null,
   "metadata": {},
   "outputs": [],
   "source": [
    "# example json request curl -X GET \"https://developer.nrel.gov/api/cleap/v1/energy_expenditures_and_ghg_by_sector?city=Austin&state_abbr=Tx&zip=78704&api_key=DEMO_KEY\" -H \"accept: application/json\"\n",
    "url = \"https://developer.nrel.gov/docs/cleap/elec_and_nat_gas/\"\n",
    "\n",
    "\n",
    "\n",
    "\n"
   ]
  },
  {
   "cell_type": "code",
   "execution_count": null,
   "metadata": {},
   "outputs": [],
   "source": []
  }
 ],
 "metadata": {
  "kernelspec": {
   "display_name": "Python 3",
   "language": "python",
   "name": "python3"
  },
  "language_info": {
   "codemirror_mode": {
    "name": "ipython",
    "version": 3
   },
   "file_extension": ".py",
   "mimetype": "text/x-python",
   "name": "python",
   "nbconvert_exporter": "python",
   "pygments_lexer": "ipython3",
   "version": "3.6.9"
  }
 },
 "nbformat": 4,
 "nbformat_minor": 2
}
